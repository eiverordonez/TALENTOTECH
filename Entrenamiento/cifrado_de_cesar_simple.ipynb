{
  "nbformat": 4,
  "nbformat_minor": 0,
  "metadata": {
    "colab": {
      "provenance": []
    },
    "kernelspec": {
      "name": "python3",
      "display_name": "Python 3"
    },
    "language_info": {
      "name": "python"
    }
  },
  "cells": [
    {
      "cell_type": "code",
      "execution_count": 22,
      "metadata": {
        "colab": {
          "base_uri": "https://localhost:8080/"
        },
        "id": "NRWcPCujdWU0",
        "outputId": "e1beb657-bac6-42cc-8cb6-87994a3f2c9a"
      },
      "outputs": [
        {
          "output_type": "stream",
          "name": "stdout",
          "text": [
            "palabra : casa popayan\n",
            "Dezplazamiento : 2\n",
            "texto cifrado : ecuc rqrcacp\n"
          ]
        }
      ],
      "source": [
        "def encrypt_text(plaintext,n):\n",
        "    ans = \"\"\n",
        "    # iterate over the given text\n",
        "    for i in range(len(plaintext)):\n",
        "        ch = plaintext[i]\n",
        "\n",
        "        # agrega un espacio\n",
        "        if ch==\" \":\n",
        "            ans+=\" \"\n",
        "        # Comprueba si un carácter está en mayúsculas y luego encriptelo\n",
        "        elif (ch.isupper()):\n",
        "            ans += chr((ord(ch) + n-65) % 26 + 65)\n",
        "        # Comprueba si un carácter está en minuscula y luego encriptelo\n",
        "\n",
        "        else:\n",
        "            ans += chr((ord(ch) + n-97) % 26 + 97)\n",
        "\n",
        "    return ans\n",
        "\n",
        "palabra = \"casa popayan\"\n",
        "n = 2\n",
        "print(\"palabra : \" + palabra)\n",
        "print(\"Dezplazamiento : \" + str(n))\n",
        "print(\"texto cifrado : \" + encrypt_text(palabra,n))"
      ]
    }
  ]
}