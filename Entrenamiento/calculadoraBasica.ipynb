{
  "nbformat": 4,
  "nbformat_minor": 0,
  "metadata": {
    "colab": {
      "provenance": []
    },
    "kernelspec": {
      "name": "python3",
      "display_name": "Python 3"
    },
    "language_info": {
      "name": "python"
    }
  },
  "cells": [
    {
      "cell_type": "code",
      "execution_count": null,
      "metadata": {
        "id": "J-nB8qqkO9b2"
      },
      "outputs": [],
      "source": [
        "num1= float(input(\"introduce el primer numero: \"))\n",
        "num2= float(input(\"introduce el segundo numero: \"))\n",
        "operador = input(\"Introduce la operacion a realizar (suma,resta, multiplicacion, division)\")\n",
        "resultado = 0\n",
        "if operador == \"suma\":\n",
        "  resultado= num1 + num2\n",
        "elif operador == \"resta\":\n",
        "     resultado = num1-num2\n",
        "elif operador == \"multiplicacion\":\n",
        "     resultado = num1*num2\n",
        "elif operador == \"division\":\n",
        "     resultado =num1/num2\n",
        "print(resultado)\n",
        "\n",
        "\n"
      ]
    }
  ]
}